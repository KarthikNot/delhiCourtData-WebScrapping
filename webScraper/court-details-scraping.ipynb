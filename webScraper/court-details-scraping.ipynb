{
 "cells": [
  {
   "cell_type": "code",
   "execution_count": 65,
   "id": "46340ea2",
   "metadata": {},
   "outputs": [],
   "source": [
    "import requests, re\n",
    "from bs4 import BeautifulSoup"
   ]
  },
  {
   "cell_type": "code",
   "execution_count": 66,
   "id": "6940b59c",
   "metadata": {},
   "outputs": [],
   "source": [
    "url = \"https://delhihighcourt.nic.in/app/\""
   ]
  },
  {
   "cell_type": "code",
   "execution_count": 78,
   "id": "6d4a1b86",
   "metadata": {},
   "outputs": [
    {
     "name": "stdout",
     "output_type": "stream",
     "text": [
      "This is code: 4209\n",
      "These are the years: [2025, 2024, 2023, 2022, 2021, 2020, 2019, 2018, 2017, 2016, 2015, 2014, 2013, 2012, 2011, 2010, 2009, 2008, 2007, 2006, 2005, 2004, 2003, 2002, 2001, 2000, 1999, 1998, 1997, 1996, 1995, 1994, 1993, 1992, 1991, 1990, 1989, 1988, 1987, 1986, 1985, 1984, 1983, 1982, 1981, 1980, 1979, 1978, 1977, 1976, 1975, 1974, 1973, 1972, 1971, 1970, 1969, 1968, 1967, 1966, 1965, 1964, 1963, 1962, 1961, 1960, 1959, 1958, 1957, 1956, 1955, 1954, 1953, 1952, 1951]\n",
      "These are the types: ['ADMIN.REPORT', 'ARB.A.', 'ARB. A. (COMM.)', 'ARB.P.', 'BAIL APPLN.', 'CA', 'CA (COMM.IPD-CR)', 'C.A.(COMM.IPD-GI)', 'C.A.(COMM.IPD-PAT)', 'C.A.(COMM.IPD-PV)', 'C.A.(COMM.IPD-TM)', 'CAVEAT(CO.)', 'CC(ARB.)', 'CCP(CO.)', 'CCP(REF)', 'CEAC', 'CEAR', 'CHAT.A.C.', 'CHAT.A.REF', 'CMI', 'CM(M)', 'CM(M)-IPD', 'C.O.', 'CO.APP.', 'CO.APPL.(C)', 'CO.APPL.(M)', 'CO.A(SB)', 'C.O.(COMM.IPD-CR)', 'C.O.(COMM.IPD-GI)', 'C.O.(COMM.IPD-PAT)', 'C.O. (COMM.IPD-TM)', 'CO.EX.', 'CONT.APP.(C)', 'CONT.CAS(C)', 'CONT.CAS.(CRL)', 'CO.PET.', 'C.REF.(O)', 'CRL.A.', 'CRL.L.P.', 'CRL.M.C.', 'CRL.M.(CO.)', 'CRL.M.I.', 'CRL.O.', 'CRL.O.(CO.)', 'CRL.REF.', 'CRL.REV.P.', 'CRL.REV.P.(MAT.)', 'CRL.REV.P.(NDPS)', 'CRL.REV.P.(NI)', 'C.R.P.', 'CRP-IPD', 'C.RULE', 'CS(COMM)', 'CS(OS)', 'CS(OS) GP', 'CUSAA', 'CUS.A.C.', 'CUS.A.R.', 'CUSTOM A.', 'DEATH SENTENCE REF.', 'DEMO', 'EDC', 'EDR', 'EFA(COMM)', 'EFA(OS)', 'EFA(OS)  (COMM)', 'EFA(OS)(IPD)', 'EL.PET.', 'ETR', 'EX.F.A.', 'EX.P.', 'EX.S.A.', 'FAO', 'FAO (COMM)', 'FAO-IPD', 'FAO(OS)', 'FAO(OS) (COMM)', 'FAO(OS)(IPD)', 'GCAC', 'GCAR', 'GTA', 'GTC', 'GTR', 'I.A.', 'I.P.A.', 'ITA', 'ITC', 'ITR', 'ITSA', 'LA.APP.', 'LPA', 'MAC.APP.', 'MAT.', 'MAT.APP.', 'MAT.APP.(F.C.)', 'MAT.CASE', 'MAT.REF.', 'MISC. APPEAL(PMLA)', 'OA', 'OCJA', 'O.M.P.', 'O.M.P. (COMM)', 'OMP (CONT.)', 'O.M.P. (E)', 'O.M.P. (E) (COMM.)', 'O.M.P.(EFA)(COMM.)', 'OMP (ENF.) (COMM.)', 'O.M.P.(I)', 'O.M.P.(I) (COMM.)', 'O.M.P. (J) (COMM.)', 'O.M.P. (MISC.)', 'O.M.P.(MISC.)(COMM.)', 'O.M.P.(T)', 'O.M.P. (T) (COMM.)', 'O.REF.', 'RC.REV.', 'RC.S.A.', 'RERA APPEAL', 'REVIEW PET.', 'RFA', 'RFA(COMM)', 'RFA-IPD', 'RFA(OS)', 'RFA(OS)(COMM)', 'RF(OS)(IPD)', 'RSA', 'SCA', 'SDR', 'SERTA', 'ST.APPL.', 'STC', 'ST.REF.', 'SUR.T.REF.', 'TEST.CAS.', 'TR.P.(C)', 'TR.P.(C.)', 'TR.P.(CRL.)', 'VAT APPEAL', 'W.P.(C)', 'W.P.(C)-IPD', 'WP(C)(IPD)', 'W.P.(CRL)', 'WTA', 'WTC', 'WTR']\n",
      "This is the token: 4sHSif8ekps5ygmjlMw7R5DpsYnL03j94KWnYsUs\n"
     ]
    }
   ],
   "source": [
    "headers = {\n",
    "    \"User-Agent\": \"Mozilla/5.0\"\n",
    "}\n",
    "\n",
    "response = requests.get(url, headers=headers)\n",
    "soup = BeautifulSoup(response.text, \"html.parser\")\n",
    "\n",
    "captcha_code = soup.find('span', class_ = 'captcha-code').text.strip()\n",
    "print('This is code:', captcha_code)\n",
    "\n",
    "options = soup.select('select#year option')\n",
    "caseYears = [int(opt['value']) for opt in options if opt['value'] != '']\n",
    "print('These are the years:', caseYears)\n",
    "\n",
    "caseTypes = [\n",
    "    option[\"value\"]\n",
    "    for option in soup.select(\"select#case_type option\")\n",
    "    if option[\"value\"].strip() != \"\"]\n",
    "print('These are the types:', caseTypes)\n",
    "\n",
    "scripts = soup.find_all(\"script\")\n",
    "for script in scripts:\n",
    "    if script.string and \"_token\" in script.string:\n",
    "        match = re.search(r'\"_token\"\\s*:\\s*\"([^\"]+)\"', script.string)\n",
    "        if match: token = match.group(1); break\n",
    "print('This is the token:', token)"
   ]
  },
  {
   "cell_type": "code",
   "execution_count": 82,
   "id": "de7572eb",
   "metadata": {},
   "outputs": [],
   "source": [
    "def fetch_case_data(case_type, case_number, filing_year):\n",
    "    session = requests.Session()\n",
    "\n",
    "    URL = \"https://delhihighcourt.nic.in/app\"\n",
    "    home_res = session.get(URL)\n",
    "    home_res.raise_for_status()\n",
    "    soup = BeautifulSoup(home_res.text, \"html.parser\")\n",
    "\n",
    "    scripts = soup.find_all(\"script\")\n",
    "    token = None\n",
    "    for script in scripts:\n",
    "        if script.string and \"_token\" in script.string:\n",
    "            match = re.search(r'\"_token\"\\s*:\\s*\"([^\"]+)\"', script.string)\n",
    "            if match:\n",
    "                token = match.group(1)\n",
    "                break\n",
    "    if not token:\n",
    "        raise Exception(\"CSRF token not found.\")\n",
    "\n",
    "    captcha_span = soup.find('span', class_='captcha-code')\n",
    "    if not captcha_span:\n",
    "        raise Exception(\"Captcha code not found on the page.\")\n",
    "    captchaCode = captcha_span.text.strip()\n",
    "\n",
    "    captcha_response = session.post(\n",
    "        \"https://delhihighcourt.nic.in/app/validateCaptcha\",\n",
    "        data={\n",
    "            \"_token\": token,\n",
    "            \"captchaInput\": captchaCode\n",
    "        }\n",
    "    )\n",
    "    captcha_response.raise_for_status()\n",
    "    captcha_json = captcha_response.json()\n",
    "\n",
    "    if captcha_json.get(\"success\"):\n",
    "        data_response = session.post(\n",
    "            \"https://delhihighcourt.nic.in/app/get_casewise_petname\",\n",
    "            data={\n",
    "                \"_token\": token,\n",
    "                \"case_type\": case_type,\n",
    "                \"case_number\": case_number,\n",
    "                \"year\": filing_year\n",
    "            }\n",
    "        )\n",
    "        print(data_response.text)\n",
    "    else:\n",
    "        print(\"❌ CAPTCHA failed\")\n",
    "\n",
    "    return 'done'"
   ]
  },
  {
   "cell_type": "code",
   "execution_count": 83,
   "id": "3c912ed7",
   "metadata": {},
   "outputs": [
    {
     "name": "stdout",
     "output_type": "stream",
     "text": [
      "<div style='text-align: center;'><div style='margin-top: 15px; padding: 10px; border: 1px solid #ccc; border-radius: 5px; background-color: #f9f9f9;'><p><strong style='font-size: .8em;'>Title:</strong> <span class='text-primary' style='font-size: .8em;'>M/S BELA CREATION PVT. LTD VS. MS. SHELLY SYAL</span></p><p'><span style='margin-right: 15px;'><strong style='font-size: .8em;'>Status:</strong> <span class='text-primary' style='font-size: .8em;'>D </span></span><span style='font-size: .8em;'><strong>Next Date:</strong> <span class='text-primary' style='font-size: .8em;'>NA</span></span><p> <p>\r\n",
      "            <a href='https://delhihighcourt.nic.in/app/online-cause-history/eyJpdiI6IkVPSDlPZ2d2VkZBZ3dDZ2h1dC8vbVE9PSIsInZhbHVlIjoiZWRPTUJUR25YUWxaNlQ3OUxHU3JTQT09IiwibWFjIjoiZjU2MzRiYWRmNjllMmEzODA0ZWFkNjJkYjc5ZjYxNDQ2Y2MwY2M5OGU5M2Y0ZmJmYzdlYzNjYzNmOTFmMjZjMyIsInRhZyI6IiJ9/eyJpdiI6IlhtWUhJd29Td2dSR1FwKzYzN1NRU2c9PSIsInZhbHVlIjoiV0ZoZk41bk9yK2RUVTdGSkRJYkwydz09IiwibWFjIjoiZWJjMGUzZDI1YTRkODZjMjI4MDIzYmE0ODc2YmRiNWNhMzNkM2E4NGY1ZWU3YWFkZTRlOTE4ZTMyYTlhM2I2NyIsInRhZyI6IiJ9/eyJpdiI6IjZ5YkdKd28ya2xNUlRyYkVUOWlJNUE9PSIsInZhbHVlIjoiOUJCSU94VGF1Syt1aTU2SEEzN0VYUT09IiwibWFjIjoiYjQ3MjVlZjZjYWE4ZDZjN2QxNTc5YjFjY2E4MTAwODlhNGY3ZTZkMGIwYmYyNDJkODI2Yzc5YTgxZGI4YWU0MiIsInRhZyI6IiJ9' class='button' style='color: blue; text-decoration: underline; font-weight: bold; font-size: .8em;'>Click Here For History</a>\r\n",
      "        </p></div>\n"
     ]
    },
    {
     "data": {
      "text/plain": [
       "'done'"
      ]
     },
     "execution_count": 83,
     "metadata": {},
     "output_type": "execute_result"
    }
   ],
   "source": [
    "fetch_case_data(case_type='CM(M)', case_number='676', filing_year=2023)"
   ]
  },
  {
   "cell_type": "code",
   "execution_count": 86,
   "id": "d2bc9430",
   "metadata": {},
   "outputs": [],
   "source": [
    "import requests\n",
    "\n",
    "url = \"https://delhihighcourt.nic.in/app/\"\n",
    "\n",
    "params = {\n",
    "    \"draw\": 1,\n",
    "    \"columns[0][data]\": \"DT_RowIndex\",\n",
    "    \"columns[0][name]\": \"DT_RowIndex\",\n",
    "    \"columns[0][searchable]\": \"true\",\n",
    "    \"columns[0][orderable]\": \"false\",\n",
    "    \"columns[0][search][value]\": \"\",\n",
    "    \"columns[0][search][regex]\": \"false\",\n",
    "    \"columns[1][data]\": \"case_no_order_link\",\n",
    "    \"columns[1][name]\": \"case_no_order_link\",\n",
    "    \"columns[1][searchable]\": \"true\",\n",
    "    \"columns[1][orderable]\": \"true\",\n",
    "    \"columns[1][search][value]\": \"\",\n",
    "    \"columns[1][search][regex]\": \"false\",\n",
    "    \"columns[2][data][_]\" : \"order_date.display\",\n",
    "    \"columns[2][data][sort]\" : \"order_date.timestamp\",\n",
    "    \"columns[2][name]\": \"order_date.timestamp\",\n",
    "    \"columns[2][searchable]\": \"true\",\n",
    "    \"columns[2][orderable]\": \"true\",\n",
    "    \"columns[2][search][value]\": \"\",\n",
    "    \"columns[2][search][regex]\": \"false\",\n",
    "    \"columns[3][data]\": \"corrigendum\",\n",
    "    \"columns[3][name]\": \"corrigendum\",\n",
    "    \"columns[3][searchable]\": \"true\",\n",
    "    \"columns[3][orderable]\": \"true\",\n",
    "    \"columns[3][search][value]\": \"\",\n",
    "    \"columns[3][search][regex]\": \"false\",\n",
    "    \"columns[4][data]\": \"hindi_order\",\n",
    "    \"columns[4][name]\": \"hindi_order\",\n",
    "    \"columns[4][searchable]\": \"true\",\n",
    "    \"columns[4][orderable]\": \"true\",\n",
    "    \"columns[4][search][value]\": \"\",\n",
    "    \"columns[4][search][regex]\": \"false\",\n",
    "    \"order[0][column]\": 0,\n",
    "    \"order[0][dir]\": \"asc\",\n",
    "    \"order[0][name]\": \"DT_RowIndex\",\n",
    "    \"start\": 0,\n",
    "    \"length\": 50,\n",
    "    \"case_type\": \"CM(M)\",       # Fill if needed\n",
    "    \"case_number\": \"676\",     # Fill if needed\n",
    "    \"year\": \"2023\",            # Fill if needed\n",
    "}\n",
    "\n",
    "headers = {\n",
    "    \"Referer\": \"https://delhihighcourt.nic.in/app/sitting-judge-wise\",\n",
    "    \"X-Requested-With\": \"XMLHttpRequest\",\n",
    "    \"User-Agent\": \"Mozilla/5.0\",\n",
    "}\n",
    "\n",
    "r = requests.get(url, headers=headers, params=params)\n",
    "r = r.json()"
   ]
  },
  {
   "cell_type": "code",
   "execution_count": 87,
   "id": "3fb1b0dc",
   "metadata": {},
   "outputs": [
    {
     "data": {
      "text/plain": [
       "[{'pno': 162553,\n",
       "  'caseno': 'CM(M) 676/2023',\n",
       "  'orddate': '26/04/2024',\n",
       "  'orderdate': '2024-04-26 00:00:00',\n",
       "  'jud1': '616',\n",
       "  'jud2': '',\n",
       "  'jud3': '',\n",
       "  'pdffilename': '100018521714649800783_55497_6762023.pdf',\n",
       "  'pdfbilingualfilename': None,\n",
       "  'ordertext': None,\n",
       "  'case_no_order_link': \"<a href='https://delhihighcourt.nic.in/app/showlogo/100018521714649800783_55497_6762023.pdf/2024' target='_blank'>CM(M) 676/2023</a>\",\n",
       "  'order_date': {'display': '26-04-2024', 'timestamp': 1714069800},\n",
       "  'corrigendum': 'NA',\n",
       "  'hindi_order': '',\n",
       "  'DT_RowIndex': 1},\n",
       " {'pno': 796149,\n",
       "  'caseno': 'CM(M) 676/2023',\n",
       "  'orddate': '05/10/2023',\n",
       "  'orderdate': '2023-10-05 00:00:00',\n",
       "  'jud1': '589',\n",
       "  'jud2': '',\n",
       "  'jud3': '',\n",
       "  'pdffilename': '525552171696666826154_27175_2023.pdf',\n",
       "  'pdfbilingualfilename': None,\n",
       "  'ordertext': None,\n",
       "  'case_no_order_link': \"<a href='https://delhihighcourt.nic.in/app/showlogo/525552171696666826154_27175_2023.pdf/2023' target='_blank'>CM(M) 676/2023</a>\",\n",
       "  'order_date': {'display': '05-10-2023', 'timestamp': 1696444200},\n",
       "  'corrigendum': 'NA',\n",
       "  'hindi_order': '',\n",
       "  'DT_RowIndex': 2},\n",
       " {'pno': 791825,\n",
       "  'caseno': 'CM(M) 676/2023',\n",
       "  'orddate': '03/10/2023',\n",
       "  'orderdate': '2023-10-03 00:00:00',\n",
       "  'jud1': '589',\n",
       "  'jud2': '',\n",
       "  'jud3': '',\n",
       "  'pdffilename': '525552171696482614570_67059_2023.pdf',\n",
       "  'pdfbilingualfilename': None,\n",
       "  'ordertext': None,\n",
       "  'case_no_order_link': \"<a href='https://delhihighcourt.nic.in/app/showlogo/525552171696482614570_67059_2023.pdf/2023' target='_blank'>CM(M) 676/2023</a>\",\n",
       "  'order_date': {'display': '03-10-2023', 'timestamp': 1696271400},\n",
       "  'corrigendum': 'NA',\n",
       "  'hindi_order': '',\n",
       "  'DT_RowIndex': 3},\n",
       " {'pno': 143387,\n",
       "  'caseno': 'CM(M) 676/2023',\n",
       "  'orddate': '28/04/2023',\n",
       "  'orderdate': '2023-04-28 00:00:00',\n",
       "  'jud1': '594',\n",
       "  'jud2': '',\n",
       "  'jud3': '',\n",
       "  'pdffilename': '1683204560195_52970_2023.pdf',\n",
       "  'pdfbilingualfilename': None,\n",
       "  'ordertext': None,\n",
       "  'case_no_order_link': \"<a href='https://delhihighcourt.nic.in/app/showlogo/1683204560195_52970_2023.pdf/2023' target='_blank'>CM(M) 676/2023</a>\",\n",
       "  'order_date': {'display': '28-04-2023', 'timestamp': 1682620200},\n",
       "  'corrigendum': 'NA',\n",
       "  'hindi_order': '',\n",
       "  'DT_RowIndex': 4},\n",
       " {'pno': 142097,\n",
       "  'caseno': 'CM(M) 676/2023',\n",
       "  'orddate': '27/04/2023',\n",
       "  'orderdate': '2023-04-27 00:00:00',\n",
       "  'jud1': '594',\n",
       "  'jud2': '',\n",
       "  'jud3': '',\n",
       "  'pdffilename': '1683192847857_54164_2023.pdf',\n",
       "  'pdfbilingualfilename': None,\n",
       "  'ordertext': None,\n",
       "  'case_no_order_link': \"<a href='https://delhihighcourt.nic.in/app/showlogo/1683192847857_54164_2023.pdf/2023' target='_blank'>CM(M) 676/2023</a>\",\n",
       "  'order_date': {'display': '27-04-2023', 'timestamp': 1682533800},\n",
       "  'corrigendum': 'NA',\n",
       "  'hindi_order': '',\n",
       "  'DT_RowIndex': 5}]"
      ]
     },
     "execution_count": 87,
     "metadata": {},
     "output_type": "execute_result"
    }
   ],
   "source": [
    "r['data']"
   ]
  },
  {
   "cell_type": "code",
   "execution_count": null,
   "id": "ef890a26",
   "metadata": {},
   "outputs": [],
   "source": []
  }
 ],
 "metadata": {
  "kernelspec": {
   "display_name": "Python 3 (ipykernel)",
   "language": "python",
   "name": "python3"
  },
  "language_info": {
   "codemirror_mode": {
    "name": "ipython",
    "version": 3
   },
   "file_extension": ".py",
   "mimetype": "text/x-python",
   "name": "python",
   "nbconvert_exporter": "python",
   "pygments_lexer": "ipython3",
   "version": "3.10.10"
  }
 },
 "nbformat": 4,
 "nbformat_minor": 5
}
